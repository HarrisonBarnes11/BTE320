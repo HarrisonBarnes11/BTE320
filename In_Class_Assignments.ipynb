{
  "cells": [
    {
      "cell_type": "markdown",
      "metadata": {
        "id": "view-in-github",
        "colab_type": "text"
      },
      "source": [
        "<a href=\"https://colab.research.google.com/github/HarrisonBarnes11/BTE320/blob/main/In_Class_Assignments.ipynb\" target=\"_parent\"><img src=\"https://colab.research.google.com/assets/colab-badge.svg\" alt=\"Open In Colab\"/></a>"
      ]
    },
    {
      "cell_type": "code",
      "execution_count": null,
      "metadata": {
        "colab": {
          "base_uri": "https://localhost:8080/"
        },
        "id": "lS0rxxzG2_74",
        "outputId": "300a3cad-0535-429d-b922-2ff0fb178806"
      },
      "outputs": [
        {
          "name": "stdout",
          "output_type": "stream",
          "text": [
            "Enter radius: 5\n",
            "Enter height: 7\n",
            "Area of cylinder: 376.8 sq. ft\n"
          ]
        }
      ],
      "source": [
        "pi = 3.14\n",
        "radius = float(input('Enter radius: '))\n",
        "height = float(input('Enter height: '))\n",
        "\n",
        "area = (2 * pi * (radius ** 2)) + (2 * pi * radius * height)\n",
        "print(f'Area of cylinder: {area} sq. ft')"
      ]
    },
    {
      "cell_type": "code",
      "execution_count": null,
      "metadata": {
        "colab": {
          "base_uri": "https://localhost:8080/"
        },
        "id": "ng3l0wsY6svV",
        "outputId": "ef9c1e34-2263-4602-af81-7c09e71272bd"
      },
      "outputs": [
        {
          "name": "stdout",
          "output_type": "stream",
          "text": [
            "Enter first number: 24\n",
            "Enter second number: 16\n",
            "Enter operator: /\n",
            "24.0 / 16.0 = 1.5\n"
          ]
        }
      ],
      "source": [
        "n1 = float(input('Enter first number: '))\n",
        "n2 = float(input('Enter second number: '))\n",
        "op = input('Enter operator: ')\n",
        "\n",
        "if op == '+':\n",
        "    res = n1 + n2\n",
        "elif op == '-':\n",
        "    res = n1 - n2\n",
        "elif op == '*':\n",
        "    res = n1 * n2\n",
        "elif op == '/':\n",
        "    res = n1 / n2\n",
        "elif op == '//':\n",
        "    res = n1 // n2\n",
        "elif op == '**':\n",
        "    res = n1 ** n2\n",
        "elif op == '%':\n",
        "    res = n1 % n2\n",
        "\n",
        "else:\n",
        "    res = 'Invalid operator!'\n",
        "\n",
        "print(f'{n1} {op} {n2} = {res}')\n",
        "\n",
        "\n"
      ]
    },
    {
      "cell_type": "code",
      "execution_count": null,
      "metadata": {
        "colab": {
          "base_uri": "https://localhost:8080/"
        },
        "id": "jKDeQJFrA8ym",
        "outputId": "598d8d2c-89e2-44ce-950d-f70573f07339"
      },
      "outputs": [
        {
          "name": "stdout",
          "output_type": "stream",
          "text": [
            "odd\n"
          ]
        }
      ],
      "source": [
        "x = 5\n",
        "if x % 2 == 0:\n",
        "    res = 'Even'\n",
        "else:\n",
        "    res = \"odd\"\n",
        "print(res)"
      ]
    },
    {
      "cell_type": "code",
      "execution_count": null,
      "metadata": {
        "colab": {
          "base_uri": "https://localhost:8080/"
        },
        "id": "sYFBnl8U_xeE",
        "outputId": "fc020fb0-cc89-4697-9887-df2a19f4d430"
      },
      "outputs": [
        {
          "name": "stdout",
          "output_type": "stream",
          "text": [
            "Odd\n"
          ]
        }
      ],
      "source": [
        "x = 5\n",
        "res = 'Even' if x % 2 == 0 else 'Odd'\n",
        "print(res)"
      ]
    },
    {
      "cell_type": "code",
      "execution_count": null,
      "metadata": {
        "colab": {
          "base_uri": "https://localhost:8080/"
        },
        "id": "1btqJVN6wdqa",
        "outputId": "813c5350-6ce1-4868-a240-8b8ed18aafd3"
      },
      "outputs": [
        {
          "name": "stdout",
          "output_type": "stream",
          "text": [
            "1 10.0\n",
            "2 10.0\n",
            "3 12.5\n",
            "4 15.0\n",
            "5 17.5\n",
            "6 20.0\n",
            "7 20.0\n",
            "8 20.0\n"
          ]
        }
      ],
      "source": [
        "for numberHours in range(1, 9):\n",
        "  fee = 5 + 2.5 * numberHours\n",
        "  if fee < 10:\n",
        "    fee = 10.0\n",
        "  elif fee > 20:\n",
        "    fee = 20.0\n",
        "  print(numberHours, fee)"
      ]
    },
    {
      "cell_type": "code",
      "execution_count": null,
      "metadata": {
        "colab": {
          "base_uri": "https://localhost:8080/"
        },
        "id": "LQZ1FBjtwibQ",
        "outputId": "20bad4ba-2fbe-4ab9-9583-e42098bf0676"
      },
      "outputs": [
        {
          "name": "stdout",
          "output_type": "stream",
          "text": [
            "$Adv\t Profit\n",
            "0 \t 0\n",
            "25 \t 75\n",
            "50 \t 90\n",
            "75 \t 105\n",
            "100 \t 100\n",
            "125 \t 95\n",
            "150 \t 90\n",
            "175 \t 85\n",
            "200 \t 80\n"
          ]
        }
      ],
      "source": [
        "import math\n",
        "\n",
        "print('$Adv\\t', 'Profit')\n",
        "for adMoney in range(0, 201, 25):\n",
        "  revenue = (20 + 2 * round(math.sqrt(adMoney))) * 10 # instead of adMoney ** 0.5\n",
        "  costs = 200 + adMoney\n",
        "  profit = revenue - costs\n",
        "  print(adMoney, '\\t', profit)"
      ]
    },
    {
      "cell_type": "code",
      "execution_count": null,
      "metadata": {
        "colab": {
          "background_save": true,
          "base_uri": "https://localhost:8080/"
        },
        "id": "adShbslcXbp7",
        "outputId": "8a11e60f-8268-4c37-bd42-e0b404cdf732"
      },
      "outputs": [
        {
          "name": "stdout",
          "output_type": "stream",
          "text": [
            "Player chose Rock; Computer chose Rock\n",
            "Draw\n"
          ]
        }
      ],
      "source": [
        "#Two modules: Outer part (the loop), ie - do you want to play the game? and the Inner part - the game\n",
        "\n",
        "import random\n",
        "\n",
        "play = input('Do you want to play a game (yes/no): ').capitalize()\n",
        "\n",
        "while play == 'Yes':\n",
        "  p1 = input('Player 1 - Choose between rock/paper/scissors ').capitalize()\n",
        "  p2 = random.choice(['rock', 'paper', 'scissors']).capitalize()\n",
        "  print(f'Player chose {p1}; Computer chose {p2}')\n",
        "\n",
        "  if p1 == p2:\n",
        "    print('Draw')\n",
        "  elif ((p1 == 'Rock' and p2 == 'Scissors') or\n",
        "        (p1 == 'Scissors' and p2 == 'Paper') or\n",
        "        (p1 == 'Paper' and p2 == 'Rock')):\n",
        "    print('Player 1 wins!')\n",
        "  else:\n",
        "    print('Computer wins!')\n",
        "\n",
        "  play = input('Do you want to play another game (yes/no): ').capitalize()\n",
        "print('Good day...')"
      ]
    },
    {
      "cell_type": "code",
      "source": [
        "lst = []\n",
        "\n",
        "while True:\n",
        "  num = float(input('Give a number: '))\n",
        "  if num == 0:\n",
        "    break\n",
        "  lst.append(num)\n",
        "lst.sort(reverse=True)\n",
        "lst\n",
        "\n"
      ],
      "metadata": {
        "colab": {
          "base_uri": "https://localhost:8080/"
        },
        "id": "tKGcfWcrdr9v",
        "outputId": "7540eff4-39e9-490f-9b6c-61778e91357c"
      },
      "execution_count": null,
      "outputs": [
        {
          "name": "stdout",
          "output_type": "stream",
          "text": [
            "Give a number: 1.45353\n",
            "Give a number: 5432.242\n",
            "Give a number: 554\n",
            "Give a number: 322\n",
            "Give a number: 32.9\n",
            "Give a number: 0\n"
          ]
        },
        {
          "output_type": "execute_result",
          "data": {
            "text/plain": [
              "[5432.242, 554.0, 322.0, 32.9, 1.45353]"
            ]
          },
          "metadata": {},
          "execution_count": 11
        }
      ]
    },
    {
      "cell_type": "code",
      "source": [
        "months = {}\n",
        "\n",
        "names = [\"Jan\", \"Feb\", \"Mar\", \"Apr\", \"May\", \"Jun\", \"Jul\", \"Aug\", \"Sep\", \"Oct\", \"Nov\", \"Dec\"]\n",
        "numbers = [1,2,3,4,5,6,7,8,9,10,11,12]\n",
        "\n",
        "for inx in range(len(numbers)):\n",
        "  months[numbers[inx]] = names[inx]\n",
        "\n",
        "months\n"
      ],
      "metadata": {
        "id": "ZyC4shQMiFmF",
        "colab": {
          "base_uri": "https://localhost:8080/"
        },
        "outputId": "94a0c0a5-b463-4d01-b034-eeb0c6160936"
      },
      "execution_count": null,
      "outputs": [
        {
          "output_type": "execute_result",
          "data": {
            "text/plain": [
              "{1: 'Jan',\n",
              " 2: 'Feb',\n",
              " 3: 'Mar',\n",
              " 4: 'Apr',\n",
              " 5: 'May',\n",
              " 6: 'Jun',\n",
              " 7: 'Jul',\n",
              " 8: 'Aug',\n",
              " 9: 'Sep',\n",
              " 10: 'Oct',\n",
              " 11: 'Nov',\n",
              " 12: 'Dec'}"
            ]
          },
          "metadata": {},
          "execution_count": 1
        }
      ]
    },
    {
      "cell_type": "code",
      "source": [
        "months = {}\n",
        "\n",
        "names = [\"Jan\", \"Feb\", \"Mar\", \"Apr\", \"May\", \"Jun\", \"Jul\", \"Aug\", \"Sep\", \"Oct\", \"Nov\", \"Dec\"]\n",
        "numbers = [1,2,3,4,5,6,7,8,9,10,11,12]\n",
        "\n",
        "cntr = 0\n",
        "\n",
        "for num in numbers:\n",
        "  months[num] = names[cntr] #d[key] = value\n",
        "  cntr += 1\n",
        "\n",
        "months"
      ],
      "metadata": {
        "colab": {
          "base_uri": "https://localhost:8080/"
        },
        "id": "TuzMJdeSwfq1",
        "outputId": "10ca9e6a-7988-44ae-f3f5-ff7957946f3a"
      },
      "execution_count": null,
      "outputs": [
        {
          "output_type": "execute_result",
          "data": {
            "text/plain": [
              "{1: 'Jan',\n",
              " 2: 'Feb',\n",
              " 3: 'Mar',\n",
              " 4: 'Apr',\n",
              " 5: 'May',\n",
              " 6: 'Jun',\n",
              " 7: 'Jul',\n",
              " 8: 'Aug',\n",
              " 9: 'Sep',\n",
              " 10: 'Oct',\n",
              " 11: 'Nov',\n",
              " 12: 'Dec'}"
            ]
          },
          "metadata": {},
          "execution_count": 2
        }
      ]
    },
    {
      "cell_type": "code",
      "source": [
        "counts = {}\n",
        "\n",
        "while len(counts) < 5:\n",
        "  key = input(\"Give me a string:\")\n",
        "\n",
        "  if key not in counts:\n",
        "    counts[key] = 1\n",
        "  else:\n",
        "    counts[key] += 1\n",
        "\n",
        "counts"
      ],
      "metadata": {
        "colab": {
          "base_uri": "https://localhost:8080/"
        },
        "id": "NPkvO5Ovwz2h",
        "outputId": "d4f8f3e8-9e07-4a9a-cffe-6f6d2297bfd4"
      },
      "execution_count": null,
      "outputs": [
        {
          "name": "stdout",
          "output_type": "stream",
          "text": [
            "Give me a string:a\n",
            "Give me a string:a\n",
            "Give me a string:b\n",
            "Give me a string:c\n",
            "Give me a string:d\n",
            "Give me a string:d\n",
            "Give me a string:d\n",
            "Give me a string:e\n"
          ]
        },
        {
          "output_type": "execute_result",
          "data": {
            "text/plain": [
              "{'a': 2, 'b': 1, 'c': 1, 'd': 3, 'e': 1}"
            ]
          },
          "metadata": {},
          "execution_count": 5
        }
      ]
    },
    {
      "cell_type": "code",
      "source": [
        "def calcFee(hours):\n",
        "  fee = 5 + 2.5 * hours\n",
        "  if fee < 10.0:\n",
        "    fee = 10.0\n",
        "  elif fee >= 20.0:\n",
        "    fee = 20.0\n",
        "  print(f'Fee: {fee}$')\n",
        "\n",
        "def main():\n",
        "  numHours = int(input('Enter number of hours: '))\n",
        "def calcFee(hours):\n",
        "  fee = 5 + 2.5 * hours\n",
        "  if fee < 10.0:\n",
        "    fee = 10.0\n",
        "  elif fee >= 20.0:\n",
        "    fee = 20.0\n",
        "  print(f'Fee: {fee}$')\n",
        "\n",
        "def main():\n",
        "  numHours = int(input('Enter number of hours: '))\n",
        "  calcFee(numHours)\n",
        "\n",
        "if __name__ == '__main__':\n",
        "  main()\n"
      ],
      "metadata": {
        "id": "wbCGQ-l8w7WM",
        "colab": {
          "base_uri": "https://localhost:8080/"
        },
        "outputId": "0694269c-ab70-4e66-e304-79de5f86061d"
      },
      "execution_count": null,
      "outputs": [
        {
          "output_type": "stream",
          "name": "stdout",
          "text": [
            "Enter number of hours: 2\n",
            "Fee: 10.0$\n"
          ]
        }
      ]
    },
    {
      "cell_type": "code",
      "source": [
        "def reverse(s):\n",
        "  if len(s) <= 1:\n",
        "    return s\n",
        "  else:\n",
        "    #return s[-1] + reverse(s[s:-1]\n",
        "    #return s[-1] + reverse(s[1:-1]) + s[0]\n",
        "    return s[-1] + reverse(s[:-1])\n",
        "reverse('Hello')"
      ],
      "metadata": {
        "id": "xEFkV5WBHmFN",
        "colab": {
          "base_uri": "https://localhost:8080/",
          "height": 36
        },
        "outputId": "9c724ca0-13ef-412f-c354-63b308eff534"
      },
      "execution_count": null,
      "outputs": [
        {
          "output_type": "execute_result",
          "data": {
            "text/plain": [
              "'olleH'"
            ],
            "application/vnd.google.colaboratory.intrinsic+json": {
              "type": "string"
            }
          },
          "metadata": {},
          "execution_count": 4
        }
      ]
    },
    {
      "cell_type": "code",
      "source": [
        "def linear_search(arr, target):\n",
        "  for item in arr:\n",
        "    if item == target:\n",
        "      return item\n",
        "\n",
        "  return -1\n",
        "linear_search([1, 4, 2 , 6], 8)"
      ],
      "metadata": {
        "colab": {
          "base_uri": "https://localhost:8080/"
        },
        "id": "nRWkt282fqAz",
        "outputId": "056b9117-be23-4b7a-c76d-2c4b767c4870"
      },
      "execution_count": null,
      "outputs": [
        {
          "output_type": "execute_result",
          "data": {
            "text/plain": [
              "-1"
            ]
          },
          "metadata": {},
          "execution_count": 5
        }
      ]
    },
    {
      "cell_type": "code",
      "source": [
        "def bubble_sort(L):\n",
        "  for i in range(len(L)):\n",
        "    for j in range(len(L) - i - 1):\n",
        "      if L[i] > L[j]:\n",
        "        L[i], L[j] = L[j], L[i]\n",
        "\n",
        "  return L"
      ],
      "metadata": {
        "id": "l3KBvzUNhWq8"
      },
      "execution_count": 2,
      "outputs": []
    },
    {
      "cell_type": "code",
      "source": [
        "def binary_search(arr, target):\n",
        "  low, high = 0, len(arr) -1\n",
        "  while low <= high:\n",
        "    mid = (low + high) // 2\n",
        "    if arr[mid] == target:\n",
        "      return arr[mid]\n",
        "    elif arr[mid] < target:\n",
        "      low = mid +1\n",
        "    else:\n",
        "      low = high -1\n",
        "  return -1"
      ],
      "metadata": {
        "id": "oRXvIzQojfvo"
      },
      "execution_count": null,
      "outputs": []
    },
    {
      "cell_type": "code",
      "source": [
        "def calcFee(hours):\n",
        "  fee = 5 + 2.5 * hours\n",
        "  if fee < 10.0:\n",
        "    fee = 10.0\n",
        "  elif fee >= 20.0:\n",
        "    fee = 20.0\n",
        "  print(f'Fee: {fee}$')\n",
        "\n",
        "def main():\n",
        "  try:\n",
        "    numHours = int(input('Enter number of hours: '))\n",
        "  except ValueError:\n",
        "    print('Cannot be casted as int()')\n",
        "  calcFee(numHours)\n",
        "\n",
        "if __name__ == '__main__':\n",
        "  main()"
      ],
      "metadata": {
        "id": "HlgYiBPlgraa"
      },
      "execution_count": null,
      "outputs": []
    },
    {
      "cell_type": "code",
      "source": [
        "def getValues(n):\n",
        "  L = []\n",
        "  for i in range(n):\n",
        "    weight = float(input('Enter Weight: '))\n",
        "    L.append(weight)\n",
        "  return L\n",
        "\n",
        "def calcAverage(alist):\n",
        "  try:\n",
        "    print(f'The average weight is: {sum(alist[2:]) / len(alist[2:])}')\n",
        "  except ZeroDivisionError:\n",
        "    print('The list is empty or has a length less than 2')\n",
        "  except:\n",
        "    print('Unknown error')\n",
        "\n",
        "\n",
        "if __name__ == '__main__':\n",
        "  try:\n",
        "    n = int(input('Enter size of list: '))\n",
        "    alist = getValues(n)\n",
        "    calcAverage(alist)\n",
        "  except ValueError:\n",
        "    print('Cannot be casted as int ()')"
      ],
      "metadata": {
        "id": "Hbf_VdSJjY-q"
      },
      "execution_count": null,
      "outputs": []
    },
    {
      "cell_type": "code",
      "source": [
        "class Greeting:\n",
        "  def __init__(self, first, last):\n",
        "    self.first = first\n",
        "    self.last = last\n",
        "\n",
        "  def display(self, formal = False):\n",
        "    if formal:\n",
        "      print(f'Hello {self.first} {self.last}')\n",
        "    else:\n",
        "     print(f'Hi {self.first}')\n",
        "\n",
        "  def __str__(self):\n",
        "    #return str(self.first) + ', ' + str(self.last)\n",
        "    #return \"{}, {}\".format(self.first, self.last)\n",
        "    return f'{self.first}, {self.last}'\n",
        "\n",
        "greeting = Greeting('Donald', 'Becker')\n",
        "s = Greeting('Bob', 'Dylan')\n",
        "greeting.display(formal=True)\n",
        "print(greeting)\n",
        "print(s)"
      ],
      "metadata": {
        "colab": {
          "base_uri": "https://localhost:8080/"
        },
        "id": "mFyLt2mJm1Wp",
        "outputId": "f6816294-8a7d-4939-e4b2-c86b6442a39b"
      },
      "execution_count": null,
      "outputs": [
        {
          "output_type": "stream",
          "name": "stdout",
          "text": [
            "Hi Donald\n"
          ]
        }
      ]
    },
    {
      "cell_type": "code",
      "source": [
        "class Student:\n",
        "  def __init__(self, name, number):\n",
        "    self.name = name\n",
        "    self.number = number\n",
        "    self.__courses = []\n",
        "\n",
        "  def get_number(self): #getter method for number attribute\n",
        "    return self.number\n",
        "\n",
        "  def set_number(self, newnumber): #setter method for number attribute\n",
        "    self.number = newnumber\n",
        "\n",
        "  def __len__(self):\n",
        "    return len(self.__courses)\n",
        "\n",
        "  def enroll(self, course):\n",
        "    if course not in self.__courses:\n",
        "      self.__courses.append(course)\n",
        "    else:\n",
        "      print(f'You have already enrolled in {course}.')\n",
        "\n",
        "  def get_courses(self):\n",
        "    return self.__courses\n",
        "\n",
        "s1 = Student('Bob', 100)\n",
        "s2 = Student('Alice', 101)\n",
        "s1.name, s2.name"
      ],
      "metadata": {
        "id": "OQXMDdrhpE3r",
        "colab": {
          "base_uri": "https://localhost:8080/"
        },
        "outputId": "0c820f35-cdc4-457c-eacd-26f43abf29fc"
      },
      "execution_count": null,
      "outputs": [
        {
          "output_type": "execute_result",
          "data": {
            "text/plain": [
              "('Bob', 'Alice')"
            ]
          },
          "metadata": {},
          "execution_count": 2
        }
      ]
    },
    {
      "cell_type": "code",
      "source": [
        "s1.enroll('BTE320')"
      ],
      "metadata": {
        "id": "dnPL4T9MQKX2"
      },
      "execution_count": null,
      "outputs": []
    },
    {
      "cell_type": "code",
      "source": [
        "s1.enroll('BTE422')"
      ],
      "metadata": {
        "id": "XFXaBir6QVQd"
      },
      "execution_count": null,
      "outputs": []
    },
    {
      "cell_type": "code",
      "source": [
        "import math\n",
        "\n",
        "class Point:\n",
        "  def __init__(self, x, y):\n",
        "    self.x = x\n",
        "    self.y = y\n",
        "\n",
        "  def distance(self, other):\n",
        "    dx = (self.x - other.x) ** 2\n",
        "    dy = (self.y - other.y) ** 2\n",
        "    dist = math.sqrt(dx + dy)\n",
        "    return dist\n",
        "\n",
        "p1 = Point(1, 7)\n",
        "p2 = Point(4, 3)\n",
        "p1.distance(p2)"
      ],
      "metadata": {
        "id": "3Fpar7CTtEMl",
        "colab": {
          "base_uri": "https://localhost:8080/"
        },
        "outputId": "8a1c99cd-87d2-43ca-ca4b-457ec217d6b4"
      },
      "execution_count": null,
      "outputs": [
        {
          "output_type": "execute_result",
          "data": {
            "text/plain": [
              "5.0"
            ]
          },
          "metadata": {},
          "execution_count": 7
        }
      ]
    },
    {
      "cell_type": "code",
      "source": [
        "class Rectangle:\n",
        "  def __init__(self):\n",
        "    self.c1 = Point(0,0)\n",
        "    self.c2 = Point(0,2)\n",
        "    self.c3 = Point(2,0)\n",
        "    self.c4 = Point(2,2)\n",
        "    self.width = self.calculate_width()\n",
        "    self.length = self.calculate_length()\n",
        "\n",
        "  def calculate_width(self):\n",
        "    # Calculates the distance between self.c1 and self.c3\n",
        "    return self.c1.distance(self.c3)\n",
        "\n",
        "  def calculate_length(self):\n",
        "    return self.c1.distance(self.c2)\n",
        "\n",
        "  def area(self):\n",
        "    return f'Area = {self.width * self.length} sq.ft'\n",
        "\n",
        "square = Rectangle()\n",
        "square.area()"
      ],
      "metadata": {
        "id": "hcZLscDxupTh",
        "colab": {
          "base_uri": "https://localhost:8080/",
          "height": 36
        },
        "outputId": "2dbadf05-89b1-4e51-a423-916d2b027235"
      },
      "execution_count": null,
      "outputs": [
        {
          "output_type": "execute_result",
          "data": {
            "text/plain": [
              "'Area = 4.0 sq.ft'"
            ],
            "application/vnd.google.colaboratory.intrinsic+json": {
              "type": "string"
            }
          },
          "metadata": {},
          "execution_count": 6
        }
      ]
    }
  ],
  "metadata": {
    "colab": {
      "provenance": [],
      "authorship_tag": "ABX9TyMwmnUlf+NHgb8pM7kXGGwq",
      "include_colab_link": true
    },
    "kernelspec": {
      "display_name": "Python 3",
      "name": "python3"
    },
    "language_info": {
      "name": "python"
    }
  },
  "nbformat": 4,
  "nbformat_minor": 0
}